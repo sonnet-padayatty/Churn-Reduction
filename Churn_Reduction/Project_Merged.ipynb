{
 "cells": [
  {
   "cell_type": "code",
   "execution_count": 90,
   "metadata": {},
   "outputs": [],
   "source": [
    "#Load libraries\n",
    "import os\n",
    "import pandas as pd\n",
    "import numpy as np\n",
    "from fancyimpute import KNN   \n",
    "import matplotlib.pyplot as plt\n",
    "from scipy.stats import chi2_contingency\n",
    "import seaborn as sns\n",
    "from random import randrange, uniform"
   ]
  },
  {
   "cell_type": "code",
   "execution_count": 91,
   "metadata": {},
   "outputs": [],
   "source": [
    "#Set working directory\n",
    "os.chdir(\"E:\\projectpy\")"
   ]
  },
  {
   "cell_type": "code",
   "execution_count": 92,
   "metadata": {},
   "outputs": [],
   "source": [
    "#Load data\n",
    "churn = pd.read_csv(\"train_data.csv\")\n",
    "churn_test=pd.read_csv(\"test_data.csv\")"
   ]
  },
  {
   "cell_type": "code",
   "execution_count": 93,
   "metadata": {},
   "outputs": [],
   "source": [
    "#combine two datasets\n",
    "df=churn.append(churn_test,ignore_index=True)"
   ]
  },
  {
   "cell_type": "code",
   "execution_count": 94,
   "metadata": {},
   "outputs": [],
   "source": [
    "df['area code']=df['area code'].astype(object)"
   ]
  },
  {
   "cell_type": "code",
   "execution_count": 95,
   "metadata": {},
   "outputs": [],
   "source": [
    "#Assigning levels to the categories\n",
    "lis = []\n",
    "for i in range(0, df.shape[1]):\n",
    "    if(df.iloc[:,i].dtypes == 'object'):\n",
    "        df.iloc[:,i] = pd.Categorical(df.iloc[:,i])\n",
    "        df.iloc[:,i] = df.iloc[:,i].cat.codes \n",
    "        df.iloc[:,i] = df.iloc[:,i].astype('object')\n",
    "        lis.append(df.columns[i])\n",
    "        "
   ]
  },
  {
   "cell_type": "code",
   "execution_count": 96,
   "metadata": {},
   "outputs": [],
   "source": [
    "#to find any missing values\n",
    "missing_val = pd.DataFrame(df.isnull().sum())"
   ]
  },
  {
   "cell_type": "code",
   "execution_count": 97,
   "metadata": {},
   "outputs": [],
   "source": [
    "lis1=[]\n",
    "for i in range(0, df.shape[1]):\n",
    "    if(df.iloc[:,i].dtypes != 'object'):\n",
    "        lis1.append(df.columns[i])"
   ]
  },
  {
   "cell_type": "code",
   "execution_count": 98,
   "metadata": {},
   "outputs": [
    {
     "data": {
      "text/plain": [
       "['account length',\n",
       " 'number vmail messages',\n",
       " 'total day minutes',\n",
       " 'total day calls',\n",
       " 'total day charge',\n",
       " 'total eve minutes',\n",
       " 'total eve calls',\n",
       " 'total eve charge',\n",
       " 'total night minutes',\n",
       " 'total night calls',\n",
       " 'total night charge',\n",
       " 'total intl minutes',\n",
       " 'total intl calls',\n",
       " 'total intl charge',\n",
       " 'number customer service calls']"
      ]
     },
     "execution_count": 98,
     "metadata": {},
     "output_type": "execute_result"
    }
   ],
   "source": [
    "lis1"
   ]
  },
  {
   "cell_type": "code",
   "execution_count": 99,
   "metadata": {},
   "outputs": [],
   "source": [
    "#Detect and replace with NA\n",
    "for i in lis1:\n",
    "    \n",
    "    # #Extract quartiles\n",
    "    q75, q25 = np.percentile(df.loc[:,i], [75,25])\n",
    "\n",
    "    # #Calculate IQR\n",
    "    iqr = q75 - q25\n",
    "\n",
    "    # #Calculate inner and outer fence\n",
    "    minimum = q25 - (iqr*1.5)\n",
    "    maximum = q75 + (iqr*1.5)\n",
    "\n",
    "    # #Replace with NA\n",
    "    df.loc[df.loc[:,i] < minimum,i] = np.nan\n",
    "    df.loc[df.loc[:,i] > maximum,i] = np.nan\n",
    "\n"
   ]
  },
  {
   "cell_type": "code",
   "execution_count": 112,
   "metadata": {},
   "outputs": [],
   "source": [
    "# #Calculate missing value\n",
    "missing_val = pd.DataFrame(df.isnull().sum())"
   ]
  },
  {
   "cell_type": "code",
   "execution_count": 113,
   "metadata": {},
   "outputs": [
    {
     "data": {
      "text/plain": [
       "0"
      ]
     },
     "execution_count": 113,
     "metadata": {},
     "output_type": "execute_result"
    }
   ],
   "source": [
    "missing_val.loc[:,0].sum()"
   ]
  },
  {
   "cell_type": "code",
   "execution_count": 111,
   "metadata": {},
   "outputs": [
    {
     "name": "stdout",
     "output_type": "stream",
     "text": [
      "Imputing row 1/5000 with 0 missing, elapsed time: 10.768\n",
      "Imputing row 101/5000 with 1 missing, elapsed time: 11.491\n",
      "Imputing row 201/5000 with 0 missing, elapsed time: 11.501\n",
      "Imputing row 301/5000 with 0 missing, elapsed time: 11.509\n",
      "Imputing row 401/5000 with 0 missing, elapsed time: 11.996\n",
      "Imputing row 501/5000 with 0 missing, elapsed time: 12.009\n",
      "Imputing row 601/5000 with 0 missing, elapsed time: 12.023\n",
      "Imputing row 701/5000 with 0 missing, elapsed time: 12.031\n",
      "Imputing row 801/5000 with 0 missing, elapsed time: 12.037\n",
      "Imputing row 901/5000 with 0 missing, elapsed time: 12.048\n",
      "Imputing row 1001/5000 with 0 missing, elapsed time: 12.060\n",
      "Imputing row 1101/5000 with 0 missing, elapsed time: 12.067\n",
      "Imputing row 1201/5000 with 1 missing, elapsed time: 12.072\n",
      "Imputing row 1301/5000 with 0 missing, elapsed time: 12.076\n",
      "Imputing row 1401/5000 with 2 missing, elapsed time: 12.080\n",
      "Imputing row 1501/5000 with 0 missing, elapsed time: 12.084\n",
      "Imputing row 1601/5000 with 0 missing, elapsed time: 12.088\n",
      "Imputing row 1701/5000 with 0 missing, elapsed time: 12.091\n",
      "Imputing row 1801/5000 with 0 missing, elapsed time: 12.094\n",
      "Imputing row 1901/5000 with 0 missing, elapsed time: 12.097\n",
      "Imputing row 2001/5000 with 0 missing, elapsed time: 12.101\n",
      "Imputing row 2101/5000 with 0 missing, elapsed time: 12.103\n",
      "Imputing row 2201/5000 with 0 missing, elapsed time: 12.105\n",
      "Imputing row 2301/5000 with 0 missing, elapsed time: 12.108\n",
      "Imputing row 2401/5000 with 0 missing, elapsed time: 12.110\n",
      "Imputing row 2501/5000 with 0 missing, elapsed time: 12.112\n",
      "Imputing row 2601/5000 with 0 missing, elapsed time: 12.114\n",
      "Imputing row 2701/5000 with 1 missing, elapsed time: 12.116\n",
      "Imputing row 2801/5000 with 0 missing, elapsed time: 12.117\n",
      "Imputing row 2901/5000 with 0 missing, elapsed time: 12.119\n",
      "Imputing row 3001/5000 with 0 missing, elapsed time: 12.121\n",
      "Imputing row 3101/5000 with 0 missing, elapsed time: 12.123\n",
      "Imputing row 3201/5000 with 0 missing, elapsed time: 12.126\n",
      "Imputing row 3301/5000 with 0 missing, elapsed time: 12.128\n",
      "Imputing row 3401/5000 with 2 missing, elapsed time: 12.130\n",
      "Imputing row 3501/5000 with 0 missing, elapsed time: 12.164\n",
      "Imputing row 3601/5000 with 0 missing, elapsed time: 12.166\n",
      "Imputing row 3701/5000 with 1 missing, elapsed time: 12.168\n",
      "Imputing row 3801/5000 with 2 missing, elapsed time: 12.170\n",
      "Imputing row 3901/5000 with 0 missing, elapsed time: 12.173\n",
      "Imputing row 4001/5000 with 0 missing, elapsed time: 12.176\n",
      "Imputing row 4101/5000 with 0 missing, elapsed time: 12.178\n",
      "Imputing row 4201/5000 with 0 missing, elapsed time: 12.181\n",
      "Imputing row 4301/5000 with 0 missing, elapsed time: 12.184\n",
      "Imputing row 4401/5000 with 0 missing, elapsed time: 12.191\n",
      "Imputing row 4501/5000 with 0 missing, elapsed time: 12.195\n",
      "Imputing row 4601/5000 with 0 missing, elapsed time: 12.198\n",
      "Imputing row 4701/5000 with 1 missing, elapsed time: 12.202\n",
      "Imputing row 4801/5000 with 0 missing, elapsed time: 12.206\n",
      "Imputing row 4901/5000 with 0 missing, elapsed time: 12.209\n"
     ]
    }
   ],
   "source": [
    "# #Impute with KNN\n",
    "df = pd.DataFrame(KNN(k = 3).complete(df), columns = df.columns)"
   ]
  },
  {
   "cell_type": "code",
   "execution_count": 114,
   "metadata": {},
   "outputs": [],
   "source": [
    "##Correlation analysis\n",
    "#Correlation plot\n",
    "df_corr = df.loc[:,lis1]"
   ]
  },
  {
   "cell_type": "code",
   "execution_count": 115,
   "metadata": {},
   "outputs": [
    {
     "data": {
      "text/plain": [
       "<matplotlib.axes._subplots.AxesSubplot at 0x2c7f5f4e2e8>"
      ]
     },
     "execution_count": 115,
     "metadata": {},
     "output_type": "execute_result"
    },
    {
     "data": {
      "image/png": "[encoded data removed]",
      "text/plain": [
       "<Figure size 504x360 with 2 Axes>"
      ]
     },
     "metadata": {},
     "output_type": "display_data"
    }
   ],
   "source": [
    "#Set the width and hieght of the plot\n",
    "f, ax = plt.subplots(figsize=(7, 5))\n",
    "\n",
    "#Generate correlation matrix\n",
    "corr = df_corr.corr()\n",
    "\n",
    "#Plot using seaborn library\n",
    "sns.heatmap(corr, mask=np.zeros_like(corr, dtype=np.bool), cmap=sns.diverging_palette(220, 10, as_cmap=True),\n",
    "            square=True, ax=ax)"
   ]
  },
  {
   "cell_type": "code",
   "execution_count": 119,
   "metadata": {},
   "outputs": [
    {
     "data": {
      "text/plain": [
       "['state', 'area code', 'phone number', 'international plan', 'voice mail plan']"
      ]
     },
     "execution_count": 119,
     "metadata": {},
     "output_type": "execute_result"
    }
   ],
   "source": [
    "#Chisquare test of independence\n",
    "#Save categorical variables\n",
    "cat_names = lis[0:5]\n",
    "cat_names"
   ]
  },
  {
   "cell_type": "code",
   "execution_count": 120,
   "metadata": {},
   "outputs": [
    {
     "name": "stdout",
     "output_type": "stream",
     "text": [
      "state\n",
      "7.850836224371827e-05\n",
      "area code\n",
      "0.7546581385329686\n",
      "phone number\n",
      "0.493350889587423\n",
      "international plan\n",
      "1.9443947474998577e-74\n",
      "voice mail plan\n",
      "7.164501780988496e-15\n"
     ]
    }
   ],
   "source": [
    "#loop for chi square values\n",
    "for i in cat_names:\n",
    "    print(i)\n",
    "    chi2, p, dof, ex = chi2_contingency(pd.crosstab(df['Churn'], df[i]))\n",
    "    print(p)"
   ]
  },
  {
   "cell_type": "code",
   "execution_count": 125,
   "metadata": {},
   "outputs": [],
   "source": [
    "#dimension reduction\n",
    "df = df.drop(['area code', 'phone number', 'total day charge', 'total eve charge', 'total intl charge','total night charge'], axis=1)"
   ]
  },
  {
   "cell_type": "code",
   "execution_count": 127,
   "metadata": {},
   "outputs": [],
   "source": [
    "df2 = df.copy()"
   ]
  },
  {
   "cell_type": "code",
   "execution_count": null,
   "metadata": {},
   "outputs": [],
   "source": []
  },
  {
   "cell_type": "code",
   "execution_count": 131,
   "metadata": {},
   "outputs": [
    {
     "data": {
      "text/plain": [
       "(array([1.028e+03, 1.000e+00, 8.000e+00, 1.100e+01, 6.000e+00, 2.800e+01,\n",
       "        2.500e+01, 9.000e+00, 1.831e+03, 2.100e+01, 1.900e+01, 5.200e+01,\n",
       "        2.800e+01, 1.700e+01, 4.000e+01, 1.400e+01, 1.200e+01, 1.155e+03,\n",
       "        3.000e+00, 1.000e+01, 1.000e+01, 2.000e+00, 0.000e+00, 4.000e+00,\n",
       "        0.000e+00, 6.660e+02]),\n",
       " array([0.        , 0.11538462, 0.23076924, 0.34615386, 0.46153847,\n",
       "        0.57692309, 0.69230771, 0.80769233, 0.92307695, 1.03846157,\n",
       "        1.15384618, 1.2692308 , 1.38461542, 1.50000004, 1.61538466,\n",
       "        1.73076928, 1.84615389, 1.96153851, 2.07692313, 2.19230775,\n",
       "        2.30769237, 2.42307699, 2.5384616 , 2.65384622, 2.76923084,\n",
       "        2.88461546, 3.00000008]),\n",
       " <a list of 26 Patch objects>)"
      ]
     },
     "execution_count": 131,
     "metadata": {},
     "output_type": "execute_result"
    },
    {
     "data": {
      "image/png": "[encoded data removed]",
      "text/plain": [
       "<Figure size 432x288 with 1 Axes>"
      ]
     },
     "metadata": {},
     "output_type": "display_data"
    }
   ],
   "source": [
    "#Normality check\n",
    "%matplotlib inline  \n",
    "plt.hist(df['number customer service calls'], bins='auto')"
   ]
  },
  {
   "cell_type": "code",
   "execution_count": 132,
   "metadata": {},
   "outputs": [
    {
     "name": "stdout",
     "output_type": "stream",
     "text": [
      "number customer service calls\n",
      "number vmail messages\n"
     ]
    }
   ],
   "source": [
    "#Nomalisation\n",
    "cnames=[\"number customer service calls\",\"number vmail messages\"]\n",
    "for i in cnames:\n",
    "    print(i)\n",
    "    df[i] = (df[i] - min(df[i]))/(max(df[i]) - min(df[i]))"
   ]
  },
  {
   "cell_type": "code",
   "execution_count": 133,
   "metadata": {},
   "outputs": [
    {
     "name": "stdout",
     "output_type": "stream",
     "text": [
      "account length\n",
      "total day minutes\n",
      "total day calls\n",
      "total eve minutes\n",
      "total eve calls\n",
      "total night minutes\n",
      "total night calls\n",
      "total intl minutes\n",
      "total intl calls\n"
     ]
    }
   ],
   "source": [
    "# #Standarisation\n",
    "cnames1=['account length',\n",
    " 'total day minutes',\n",
    " 'total day calls',\n",
    " 'total eve minutes',\n",
    " 'total eve calls',\n",
    " 'total night minutes',\n",
    " 'total night calls',\n",
    " 'total intl minutes',\n",
    " 'total intl calls']\n",
    "for i in cnames1:\n",
    "    print(i)\n",
    "    df[i] = (df[i] - df[i].mean())/df[i].std()"
   ]
  },
  {
   "cell_type": "code",
   "execution_count": null,
   "metadata": {},
   "outputs": [],
   "source": [
    "#replace target categories with Yes or No\n",
    "df['Churn'] = df['Churn'].replace(0.0, 'No')\n",
    "df['Churn'] = df['Churn'].replace(1.0, 'Yes')"
   ]
  },
  {
   "cell_type": "code",
   "execution_count": 160,
   "metadata": {},
   "outputs": [],
   "source": [
    "train=df.iloc[0:3333,:]"
   ]
  },
  {
   "cell_type": "code",
   "execution_count": 161,
   "metadata": {},
   "outputs": [],
   "source": [
    "test=df.iloc[3333:,:]"
   ]
  },
  {
   "cell_type": "code",
   "execution_count": 159,
   "metadata": {},
   "outputs": [],
   "source": []
  },
  {
   "cell_type": "code",
   "execution_count": 162,
   "metadata": {},
   "outputs": [],
   "source": [
    "X_train=train.iloc[:,0:14]\n",
    "y_train=train.iloc[:,14]\n",
    "X_test=test.iloc[:,0:14]\n",
    "y_test=test.iloc[:,14]"
   ]
  },
  {
   "cell_type": "code",
   "execution_count": 163,
   "metadata": {},
   "outputs": [
    {
     "data": {
      "text/plain": [
       "0    No\n",
       "1    No\n",
       "2    No\n",
       "3    No\n",
       "4    No\n",
       "Name: Churn, dtype: object"
      ]
     },
     "execution_count": 163,
     "metadata": {},
     "output_type": "execute_result"
    }
   ],
   "source": [
    "y_train.head()"
   ]
  },
  {
   "cell_type": "code",
   "execution_count": null,
   "metadata": {},
   "outputs": [],
   "source": [
    "###### MODEL DEVELOPMENT #############"
   ]
  },
  {
   "cell_type": "code",
   "execution_count": 148,
   "metadata": {},
   "outputs": [],
   "source": [
    "#Import Libraries for decision tree\n",
    "from sklearn import tree\n",
    "from sklearn.metrics import accuracy_score\n",
    "from sklearn.cross_validation import train_test_split"
   ]
  },
  {
   "cell_type": "code",
   "execution_count": 164,
   "metadata": {},
   "outputs": [],
   "source": [
    "#Decision Tree\n",
    "C50_model = tree.DecisionTreeClassifier(criterion='entropy').fit(X_train, y_train)\n",
    "\n",
    "#predict new test cases\n",
    "C50_Predictions = C50_model.predict(X_test)\n",
    "\n",
    "#Create dot file to visualise tree  #http://webgraphviz.com/\n",
    "# dotfile = open(\"pt.dot\", 'w')\n",
    "# df = tree.export_graphviz(C50_model, out_file=dotfile, feature_names = marketing_train.columns)"
   ]
  },
  {
   "cell_type": "code",
   "execution_count": 167,
   "metadata": {},
   "outputs": [
    {
     "data": {
      "text/plain": [
       "89.50209958008398"
      ]
     },
     "execution_count": 167,
     "metadata": {},
     "output_type": "execute_result"
    }
   ],
   "source": [
    "#build confusion matrix\n",
    "# from sklearn.metrics import confusion_matrix \n",
    "# CM = confusion_matrix(y_test, y_pred)\n",
    "CM = pd.crosstab(y_test, C50_Predictions)\n",
    "\n",
    "#let us save TP, TN, FP, FN\n",
    "TN = CM.iloc[0,0]\n",
    "FN = CM.iloc[1,0]\n",
    "TP = CM.iloc[1,1]\n",
    "FP = CM.iloc[0,1]\n",
    "\n",
    "#check accuracy of model\n",
    "#accuracy_score(y_test, y_pred)*100\n",
    "((TP+TN)*100)/(TP+TN+FP+FN)\n",
    "\n",
    "#False Negative rate \n",
    "#(FN*100)/(FN+TP)\n",
    "\n",
    "#Results\n",
    "#Accuracy: 89.5\n",
    "#FNR: 40"
   ]
  },
  {
   "cell_type": "code",
   "execution_count": 168,
   "metadata": {},
   "outputs": [],
   "source": [
    "#Random Forest\n",
    "from sklearn.ensemble import RandomForestClassifier\n",
    "\n",
    "RF_model = RandomForestClassifier(n_estimators = 500).fit(X_train, y_train)"
   ]
  },
  {
   "cell_type": "code",
   "execution_count": 169,
   "metadata": {},
   "outputs": [],
   "source": [
    "RF_Predictions = RF_model.predict(X_test)"
   ]
  },
  {
   "cell_type": "code",
   "execution_count": 172,
   "metadata": {},
   "outputs": [
    {
     "data": {
      "text/plain": [
       "53.57142857142857"
      ]
     },
     "execution_count": 172,
     "metadata": {},
     "output_type": "execute_result"
    }
   ],
   "source": [
    "#build confusion matrix\n",
    "# from sklearn.metrics import confusion_matrix \n",
    "# CM = confusion_matrix(y_test, y_pred)\n",
    "CM = pd.crosstab(y_test, RF_Predictions)\n",
    "\n",
    "#let us save TP, TN, FP, FN\n",
    "TN = CM.iloc[0,0]\n",
    "FN = CM.iloc[1,0]\n",
    "TP = CM.iloc[1,1]\n",
    "FP = CM.iloc[0,1]\n",
    "\n",
    "#check accuracy of model\n",
    "#accuracy_score(y_test, y_pred)*100\n",
    "#((TP+TN)*100)/(TP+TN+FP+FN)\n",
    "\n",
    "#False Negative rate \n",
    "(FN*100)/(FN+TP)\n",
    "\n",
    "#Accuracy: 92.6\n",
    "#FNR: 53.6"
   ]
  },
  {
   "cell_type": "code",
   "execution_count": 173,
   "metadata": {},
   "outputs": [],
   "source": [
    "#KNN implementation\n",
    "from sklearn.neighbors import KNeighborsClassifier\n",
    "\n",
    "KNN_model = KNeighborsClassifier(n_neighbors = 9).fit(X_train, y_train)"
   ]
  },
  {
   "cell_type": "code",
   "execution_count": 174,
   "metadata": {},
   "outputs": [],
   "source": [
    "#predict test cases\n",
    "KNN_Predictions = KNN_model.predict(X_test)"
   ]
  },
  {
   "cell_type": "code",
   "execution_count": 176,
   "metadata": {},
   "outputs": [
    {
     "data": {
      "text/plain": [
       "96.875"
      ]
     },
     "execution_count": 176,
     "metadata": {},
     "output_type": "execute_result"
    }
   ],
   "source": [
    "#build confusion matrix\n",
    "CM = pd.crosstab(y_test, KNN_Predictions)\n",
    "\n",
    "#let us save TP, TN, FP, FN\n",
    "TN = CM.iloc[0,0]\n",
    "FN = CM.iloc[1,0]\n",
    "TP = CM.iloc[1,1]\n",
    "FP = CM.iloc[0,1]\n",
    "\n",
    "#check accuracy of model\n",
    "#accuracy_score(y_test, y_pred)*100\n",
    "((TP+TN)*100)/(TP+TN+FP+FN)\n",
    "\n",
    "#False Negative rate \n",
    "(FN*100)/(FN+TP)\n",
    "\n",
    "#Accuracy: 86.8\n",
    "#FNR: 96.8"
   ]
  },
  {
   "cell_type": "code",
   "execution_count": 177,
   "metadata": {},
   "outputs": [],
   "source": [
    "#Naive Bayes\n",
    "from sklearn.naive_bayes import GaussianNB\n",
    "\n",
    "#Naive Bayes implementation\n",
    "NB_model = GaussianNB().fit(X_train, y_train)"
   ]
  },
  {
   "cell_type": "code",
   "execution_count": 178,
   "metadata": {},
   "outputs": [],
   "source": [
    "#predict test cases\n",
    "NB_Predictions = NB_model.predict(X_test)"
   ]
  },
  {
   "cell_type": "code",
   "execution_count": 180,
   "metadata": {},
   "outputs": [
    {
     "data": {
      "text/plain": [
       "85.84283143371326"
      ]
     },
     "execution_count": 180,
     "metadata": {},
     "output_type": "execute_result"
    }
   ],
   "source": [
    "#Build confusion matrix\n",
    "CM = pd.crosstab(y_test, NB_Predictions)\n",
    "\n",
    "#let us save TP, TN, FP, FN\n",
    "TN = CM.iloc[0,0]\n",
    "FN = CM.iloc[1,0]\n",
    "TP = CM.iloc[1,1]\n",
    "FP = CM.iloc[0,1]\n",
    "\n",
    "#check accuracy of model\n",
    "#accuracy_score(y_test, y_pred)*100\n",
    "((TP+TN)*100)/(TP+TN+FP+FN)\n",
    "\n",
    "#False Negative rate \n",
    "#(FN*100)/(FN+TP)\n",
    "\n",
    "#Accuracy: 85.8\n",
    "#FNR: 68.3"
   ]
  },
  {
   "cell_type": "code",
   "execution_count": 182,
   "metadata": {},
   "outputs": [],
   "source": [
    "#logistic regression\n",
    "df['Churn'] = df['Churn'].replace('No', 0)\n",
    "df['Churn'] = df['Churn'].replace('Yes', 1)"
   ]
  },
  {
   "cell_type": "code",
   "execution_count": 210,
   "metadata": {},
   "outputs": [],
   "source": [
    "#Create logistic data. Save target variable first\n",
    "df_logit = pd.DataFrame(df['Churn'])"
   ]
  },
  {
   "cell_type": "code",
   "execution_count": 211,
   "metadata": {},
   "outputs": [],
   "source": [
    "coln=['account length','number vmail messages',\n",
    " 'total day minutes',\n",
    " 'total day calls',\n",
    " 'total eve minutes',\n",
    " 'total eve calls',\n",
    " 'total night minutes',\n",
    " 'total night calls',\n",
    " 'total intl minutes',\n",
    " 'total intl calls',\n",
    " 'number customer service calls']\n",
    "colc=['state','international plan',\n",
    " 'voice mail plan',]"
   ]
  },
  {
   "cell_type": "code",
   "execution_count": null,
   "metadata": {},
   "outputs": [],
   "source": []
  },
  {
   "cell_type": "code",
   "execution_count": 212,
   "metadata": {},
   "outputs": [],
   "source": [
    "#Add continous variables\n",
    "df_logit = df_logit.join(df[coln])"
   ]
  },
  {
   "cell_type": "code",
   "execution_count": 219,
   "metadata": {},
   "outputs": [
    {
     "data": {
      "text/html": [
       "<div>\n",
       "<style scoped>\n",
       "    .dataframe tbody tr th:only-of-type {\n",
       "        vertical-align: middle;\n",
       "    }\n",
       "\n",
       "    .dataframe tbody tr th {\n",
       "        vertical-align: top;\n",
       "    }\n",
       "\n",
       "    .dataframe thead th {\n",
       "        text-align: right;\n",
       "    }\n",
       "</style>\n",
       "<table border=\"1\" class=\"dataframe\">\n",
       "  <thead>\n",
       "    <tr style=\"text-align: right;\">\n",
       "      <th></th>\n",
       "      <th>Churn</th>\n",
       "      <th>account length</th>\n",
       "      <th>number vmail messages</th>\n",
       "      <th>total day minutes</th>\n",
       "      <th>total day calls</th>\n",
       "      <th>total eve minutes</th>\n",
       "      <th>total eve calls</th>\n",
       "      <th>total night minutes</th>\n",
       "      <th>total night calls</th>\n",
       "      <th>total intl minutes</th>\n",
       "      <th>...</th>\n",
       "      <th>state_45.0</th>\n",
       "      <th>state_46.0</th>\n",
       "      <th>state_47.0</th>\n",
       "      <th>state_48.0</th>\n",
       "      <th>state_49.0</th>\n",
       "      <th>state_50.0</th>\n",
       "      <th>international plan_0.0</th>\n",
       "      <th>international plan_1.0</th>\n",
       "      <th>voice mail plan_0.0</th>\n",
       "      <th>voice mail plan_1.0</th>\n",
       "    </tr>\n",
       "  </thead>\n",
       "  <tbody>\n",
       "    <tr>\n",
       "      <th>0</th>\n",
       "      <td>0</td>\n",
       "      <td>0.729252</td>\n",
       "      <td>0.595238</td>\n",
       "      <td>1.620364</td>\n",
       "      <td>0.511713</td>\n",
       "      <td>-0.066175</td>\n",
       "      <td>-0.064155</td>\n",
       "      <td>0.909643</td>\n",
       "      <td>-0.461182</td>\n",
       "      <td>-0.117382</td>\n",
       "      <td>...</td>\n",
       "      <td>0</td>\n",
       "      <td>0</td>\n",
       "      <td>0</td>\n",
       "      <td>0</td>\n",
       "      <td>0</td>\n",
       "      <td>0</td>\n",
       "      <td>1</td>\n",
       "      <td>0</td>\n",
       "      <td>0</td>\n",
       "      <td>1</td>\n",
       "    </tr>\n",
       "    <tr>\n",
       "      <th>1</th>\n",
       "      <td>0</td>\n",
       "      <td>0.188240</td>\n",
       "      <td>0.619048</td>\n",
       "      <td>-0.357302</td>\n",
       "      <td>1.189526</td>\n",
       "      <td>-0.105234</td>\n",
       "      <td>0.142886</td>\n",
       "      <td>1.108831</td>\n",
       "      <td>0.164757</td>\n",
       "      <td>1.331274</td>\n",
       "      <td>...</td>\n",
       "      <td>0</td>\n",
       "      <td>0</td>\n",
       "      <td>0</td>\n",
       "      <td>0</td>\n",
       "      <td>0</td>\n",
       "      <td>0</td>\n",
       "      <td>1</td>\n",
       "      <td>0</td>\n",
       "      <td>0</td>\n",
       "      <td>1</td>\n",
       "    </tr>\n",
       "    <tr>\n",
       "      <th>2</th>\n",
       "      <td>0</td>\n",
       "      <td>0.961115</td>\n",
       "      <td>0.000000</td>\n",
       "      <td>1.205723</td>\n",
       "      <td>0.720271</td>\n",
       "      <td>-1.632643</td>\n",
       "      <td>0.505208</td>\n",
       "      <td>-0.776273</td>\n",
       "      <td>0.216918</td>\n",
       "      <td>0.743981</td>\n",
       "      <td>...</td>\n",
       "      <td>0</td>\n",
       "      <td>0</td>\n",
       "      <td>0</td>\n",
       "      <td>0</td>\n",
       "      <td>0</td>\n",
       "      <td>0</td>\n",
       "      <td>1</td>\n",
       "      <td>0</td>\n",
       "      <td>1</td>\n",
       "      <td>0</td>\n",
       "    </tr>\n",
       "    <tr>\n",
       "      <th>3</th>\n",
       "      <td>0</td>\n",
       "      <td>-0.404297</td>\n",
       "      <td>0.000000</td>\n",
       "      <td>2.275764</td>\n",
       "      <td>-1.521729</td>\n",
       "      <td>-1.525249</td>\n",
       "      <td>-0.633519</td>\n",
       "      <td>-0.071926</td>\n",
       "      <td>-0.565505</td>\n",
       "      <td>-1.448580</td>\n",
       "      <td>...</td>\n",
       "      <td>0</td>\n",
       "      <td>0</td>\n",
       "      <td>0</td>\n",
       "      <td>0</td>\n",
       "      <td>0</td>\n",
       "      <td>0</td>\n",
       "      <td>0</td>\n",
       "      <td>1</td>\n",
       "      <td>1</td>\n",
       "      <td>0</td>\n",
       "    </tr>\n",
       "    <tr>\n",
       "      <th>4</th>\n",
       "      <td>0</td>\n",
       "      <td>-0.636160</td>\n",
       "      <td>0.000000</td>\n",
       "      <td>-0.259852</td>\n",
       "      <td>0.668131</td>\n",
       "      <td>-1.075540</td>\n",
       "      <td>1.126331</td>\n",
       "      <td>-0.277275</td>\n",
       "      <td>1.103665</td>\n",
       "      <td>-0.078229</td>\n",
       "      <td>...</td>\n",
       "      <td>0</td>\n",
       "      <td>0</td>\n",
       "      <td>0</td>\n",
       "      <td>0</td>\n",
       "      <td>0</td>\n",
       "      <td>0</td>\n",
       "      <td>0</td>\n",
       "      <td>1</td>\n",
       "      <td>1</td>\n",
       "      <td>0</td>\n",
       "    </tr>\n",
       "  </tbody>\n",
       "</table>\n",
       "<p>5 rows × 67 columns</p>\n",
       "</div>"
      ],
      "text/plain": [
       "   Churn  account length  number vmail messages  total day minutes  \\\n",
       "0      0        0.729252               0.595238           1.620364   \n",
       "1      0        0.188240               0.619048          -0.357302   \n",
       "2      0        0.961115               0.000000           1.205723   \n",
       "3      0       -0.404297               0.000000           2.275764   \n",
       "4      0       -0.636160               0.000000          -0.259852   \n",
       "\n",
       "   total day calls  total eve minutes  total eve calls  total night minutes  \\\n",
       "0         0.511713          -0.066175        -0.064155             0.909643   \n",
       "1         1.189526          -0.105234         0.142886             1.108831   \n",
       "2         0.720271          -1.632643         0.505208            -0.776273   \n",
       "3        -1.521729          -1.525249        -0.633519            -0.071926   \n",
       "4         0.668131          -1.075540         1.126331            -0.277275   \n",
       "\n",
       "   total night calls  total intl minutes         ...           state_45.0  \\\n",
       "0          -0.461182           -0.117382         ...                    0   \n",
       "1           0.164757            1.331274         ...                    0   \n",
       "2           0.216918            0.743981         ...                    0   \n",
       "3          -0.565505           -1.448580         ...                    0   \n",
       "4           1.103665           -0.078229         ...                    0   \n",
       "\n",
       "   state_46.0  state_47.0  state_48.0  state_49.0  state_50.0  \\\n",
       "0           0           0           0           0           0   \n",
       "1           0           0           0           0           0   \n",
       "2           0           0           0           0           0   \n",
       "3           0           0           0           0           0   \n",
       "4           0           0           0           0           0   \n",
       "\n",
       "   international plan_0.0  international plan_1.0  voice mail plan_0.0  \\\n",
       "0                       1                       0                    0   \n",
       "1                       1                       0                    0   \n",
       "2                       1                       0                    1   \n",
       "3                       0                       1                    1   \n",
       "4                       0                       1                    1   \n",
       "\n",
       "   voice mail plan_1.0  \n",
       "0                    1  \n",
       "1                    1  \n",
       "2                    0  \n",
       "3                    0  \n",
       "4                    0  \n",
       "\n",
       "[5 rows x 67 columns]"
      ]
     },
     "execution_count": 219,
     "metadata": {},
     "output_type": "execute_result"
    }
   ],
   "source": [
    "df_logit.head()"
   ]
  },
  {
   "cell_type": "code",
   "execution_count": 214,
   "metadata": {},
   "outputs": [],
   "source": [
    "##Create dummies for categorical variables\n",
    "cat_names = [\"state\", \"international plan\", \"voice mail plan\"]\n",
    "\n",
    "for i in colc:\n",
    "    temp = pd.get_dummies(df[i], prefix = i)\n",
    "    df_logit = df_logit.join(temp)"
   ]
  },
  {
   "cell_type": "code",
   "execution_count": 218,
   "metadata": {},
   "outputs": [],
   "source": [
    "train_l=df_logit.iloc[0:3333,:]\n",
    "test_l=df_logit.iloc[3333:,:]"
   ]
  },
  {
   "cell_type": "code",
   "execution_count": 220,
   "metadata": {},
   "outputs": [],
   "source": [
    "#select column indexes for independent variables\n",
    "train_cols = train_l.columns[1:67]"
   ]
  },
  {
   "cell_type": "code",
   "execution_count": 223,
   "metadata": {},
   "outputs": [
    {
     "name": "stdout",
     "output_type": "stream",
     "text": [
      "Optimization terminated successfully.\n",
      "         Current function value: 0.342990\n",
      "         Iterations 7\n"
     ]
    },
    {
     "name": "stderr",
     "output_type": "stream",
     "text": [
      "C:\\Users\\sonne\\Anaconda3\\lib\\site-packages\\statsmodels\\base\\model.py:1092: RuntimeWarning: invalid value encountered in sqrt\n",
      "  bse_ = np.sqrt(np.diag(self.cov_params()))\n",
      "C:\\Users\\sonne\\Anaconda3\\lib\\site-packages\\scipy\\stats\\_distn_infrastructure.py:879: RuntimeWarning: invalid value encountered in greater\n",
      "  return (self.a < x) & (x < self.b)\n",
      "C:\\Users\\sonne\\Anaconda3\\lib\\site-packages\\scipy\\stats\\_distn_infrastructure.py:879: RuntimeWarning: invalid value encountered in less\n",
      "  return (self.a < x) & (x < self.b)\n",
      "C:\\Users\\sonne\\Anaconda3\\lib\\site-packages\\scipy\\stats\\_distn_infrastructure.py:1821: RuntimeWarning: invalid value encountered in less_equal\n",
      "  cond2 = cond0 & (x <= self.a)\n"
     ]
    },
    {
     "data": {
      "text/html": [
       "<table class=\"simpletable\">\n",
       "<caption>Logit Regression Results</caption>\n",
       "<tr>\n",
       "  <th>Dep. Variable:</th>       <td>Churn</td>      <th>  No. Observations:  </th>  <td>  3333</td>  \n",
       "</tr>\n",
       "<tr>\n",
       "  <th>Model:</th>               <td>Logit</td>      <th>  Df Residuals:      </th>  <td>  3269</td>  \n",
       "</tr>\n",
       "<tr>\n",
       "  <th>Method:</th>               <td>MLE</td>       <th>  Df Model:          </th>  <td>    63</td>  \n",
       "</tr>\n",
       "<tr>\n",
       "  <th>Date:</th>          <td>Sat, 21 Jul 2018</td> <th>  Pseudo R-squ.:     </th>  <td>0.1711</td>  \n",
       "</tr>\n",
       "<tr>\n",
       "  <th>Time:</th>              <td>10:59:58</td>     <th>  Log-Likelihood:    </th> <td> -1143.2</td> \n",
       "</tr>\n",
       "<tr>\n",
       "  <th>converged:</th>           <td>True</td>       <th>  LL-Null:           </th> <td> -1379.1</td> \n",
       "</tr>\n",
       "<tr>\n",
       "  <th> </th>                      <td> </td>        <th>  LLR p-value:       </th> <td>6.122e-64</td>\n",
       "</tr>\n",
       "</table>\n",
       "<table class=\"simpletable\">\n",
       "<tr>\n",
       "                <td></td>                   <th>coef</th>     <th>std err</th>      <th>z</th>      <th>P>|z|</th>  <th>[0.025</th>    <th>0.975]</th>  \n",
       "</tr>\n",
       "<tr>\n",
       "  <th>account length</th>                <td>    0.0428</td> <td>    0.054</td> <td>    0.791</td> <td> 0.429</td> <td>   -0.063</td> <td>    0.149</td>\n",
       "</tr>\n",
       "<tr>\n",
       "  <th>number vmail messages</th>         <td>    0.8532</td> <td>    0.709</td> <td>    1.203</td> <td> 0.229</td> <td>   -0.537</td> <td>    2.243</td>\n",
       "</tr>\n",
       "<tr>\n",
       "  <th>total day minutes</th>             <td>    0.5516</td> <td>    0.056</td> <td>    9.931</td> <td> 0.000</td> <td>    0.443</td> <td>    0.660</td>\n",
       "</tr>\n",
       "<tr>\n",
       "  <th>total day calls</th>               <td>    0.0771</td> <td>    0.054</td> <td>    1.431</td> <td> 0.152</td> <td>   -0.028</td> <td>    0.183</td>\n",
       "</tr>\n",
       "<tr>\n",
       "  <th>total eve minutes</th>             <td>    0.2774</td> <td>    0.055</td> <td>    5.013</td> <td> 0.000</td> <td>    0.169</td> <td>    0.386</td>\n",
       "</tr>\n",
       "<tr>\n",
       "  <th>total eve calls</th>               <td>    0.0177</td> <td>    0.055</td> <td>    0.321</td> <td> 0.748</td> <td>   -0.090</td> <td>    0.126</td>\n",
       "</tr>\n",
       "<tr>\n",
       "  <th>total night minutes</th>           <td>    0.1778</td> <td>    0.055</td> <td>    3.242</td> <td> 0.001</td> <td>    0.070</td> <td>    0.285</td>\n",
       "</tr>\n",
       "<tr>\n",
       "  <th>total night calls</th>             <td>    0.0055</td> <td>    0.055</td> <td>    0.100</td> <td> 0.920</td> <td>   -0.102</td> <td>    0.113</td>\n",
       "</tr>\n",
       "<tr>\n",
       "  <th>total intl minutes</th>            <td>    0.1464</td> <td>    0.055</td> <td>    2.668</td> <td> 0.008</td> <td>    0.039</td> <td>    0.254</td>\n",
       "</tr>\n",
       "<tr>\n",
       "  <th>total intl calls</th>              <td>   -0.2381</td> <td>    0.057</td> <td>   -4.207</td> <td> 0.000</td> <td>   -0.349</td> <td>   -0.127</td>\n",
       "</tr>\n",
       "<tr>\n",
       "  <th>number customer service calls</th> <td>   -0.0152</td> <td>    0.171</td> <td>   -0.089</td> <td> 0.929</td> <td>   -0.351</td> <td>    0.320</td>\n",
       "</tr>\n",
       "<tr>\n",
       "  <th>state_0.0</th>                     <td>   -0.8108</td> <td>      nan</td> <td>      nan</td> <td>   nan</td> <td>      nan</td> <td>      nan</td>\n",
       "</tr>\n",
       "<tr>\n",
       "  <th>state_1.0</th>                     <td>   -0.4332</td> <td>      nan</td> <td>      nan</td> <td>   nan</td> <td>      nan</td> <td>      nan</td>\n",
       "</tr>\n",
       "<tr>\n",
       "  <th>state_2.0</th>                     <td>    0.4227</td> <td>      nan</td> <td>      nan</td> <td>   nan</td> <td>      nan</td> <td>      nan</td>\n",
       "</tr>\n",
       "<tr>\n",
       "  <th>state_3.0</th>                     <td>   -0.6881</td> <td>      nan</td> <td>      nan</td> <td>   nan</td> <td>      nan</td> <td>      nan</td>\n",
       "</tr>\n",
       "<tr>\n",
       "  <th>state_4.0</th>                     <td>    0.8563</td> <td>      nan</td> <td>      nan</td> <td>   nan</td> <td>      nan</td> <td>      nan</td>\n",
       "</tr>\n",
       "<tr>\n",
       "  <th>state_5.0</th>                     <td>    0.1021</td> <td>      nan</td> <td>      nan</td> <td>   nan</td> <td>      nan</td> <td>      nan</td>\n",
       "</tr>\n",
       "<tr>\n",
       "  <th>state_6.0</th>                     <td>    0.1098</td> <td>      nan</td> <td>      nan</td> <td>   nan</td> <td>      nan</td> <td>      nan</td>\n",
       "</tr>\n",
       "<tr>\n",
       "  <th>state_7.0</th>                     <td>   -0.3461</td> <td>      nan</td> <td>      nan</td> <td>   nan</td> <td>      nan</td> <td>      nan</td>\n",
       "</tr>\n",
       "<tr>\n",
       "  <th>state_8.0</th>                     <td>   -0.0708</td> <td>      nan</td> <td>      nan</td> <td>   nan</td> <td>      nan</td> <td>      nan</td>\n",
       "</tr>\n",
       "<tr>\n",
       "  <th>state_9.0</th>                     <td>   -0.2262</td> <td>      nan</td> <td>      nan</td> <td>   nan</td> <td>      nan</td> <td>      nan</td>\n",
       "</tr>\n",
       "<tr>\n",
       "  <th>state_10.0</th>                    <td>    0.1329</td> <td>      nan</td> <td>      nan</td> <td>   nan</td> <td>      nan</td> <td>      nan</td>\n",
       "</tr>\n",
       "<tr>\n",
       "  <th>state_11.0</th>                    <td>   -0.9411</td> <td>      nan</td> <td>      nan</td> <td>   nan</td> <td>      nan</td> <td>      nan</td>\n",
       "</tr>\n",
       "<tr>\n",
       "  <th>state_12.0</th>                    <td>   -0.4391</td> <td>      nan</td> <td>      nan</td> <td>   nan</td> <td>      nan</td> <td>      nan</td>\n",
       "</tr>\n",
       "<tr>\n",
       "  <th>state_13.0</th>                    <td>    0.1223</td> <td>      nan</td> <td>      nan</td> <td>   nan</td> <td>      nan</td> <td>      nan</td>\n",
       "</tr>\n",
       "<tr>\n",
       "  <th>state_14.0</th>                    <td>   -1.1558</td> <td>      nan</td> <td>      nan</td> <td>   nan</td> <td>      nan</td> <td>      nan</td>\n",
       "</tr>\n",
       "<tr>\n",
       "  <th>state_15.0</th>                    <td>   -0.1405</td> <td>      nan</td> <td>      nan</td> <td>   nan</td> <td>      nan</td> <td>      nan</td>\n",
       "</tr>\n",
       "<tr>\n",
       "  <th>state_16.0</th>                    <td>    0.1597</td> <td>      nan</td> <td>      nan</td> <td>   nan</td> <td>      nan</td> <td>      nan</td>\n",
       "</tr>\n",
       "<tr>\n",
       "  <th>state_17.0</th>                    <td>    0.0519</td> <td>      nan</td> <td>      nan</td> <td>   nan</td> <td>      nan</td> <td>      nan</td>\n",
       "</tr>\n",
       "<tr>\n",
       "  <th>state_18.0</th>                    <td>   -0.2737</td> <td>      nan</td> <td>      nan</td> <td>   nan</td> <td>      nan</td> <td>      nan</td>\n",
       "</tr>\n",
       "<tr>\n",
       "  <th>state_19.0</th>                    <td>    0.1249</td> <td>      nan</td> <td>      nan</td> <td>   nan</td> <td>      nan</td> <td>      nan</td>\n",
       "</tr>\n",
       "<tr>\n",
       "  <th>state_20.0</th>                    <td>    0.4977</td> <td>      nan</td> <td>      nan</td> <td>   nan</td> <td>      nan</td> <td>      nan</td>\n",
       "</tr>\n",
       "<tr>\n",
       "  <th>state_21.0</th>                    <td>    0.5816</td> <td>      nan</td> <td>      nan</td> <td>   nan</td> <td>      nan</td> <td>      nan</td>\n",
       "</tr>\n",
       "<tr>\n",
       "  <th>state_22.0</th>                    <td>    0.5682</td> <td>      nan</td> <td>      nan</td> <td>   nan</td> <td>      nan</td> <td>      nan</td>\n",
       "</tr>\n",
       "<tr>\n",
       "  <th>state_23.0</th>                    <td>    0.2656</td> <td>      nan</td> <td>      nan</td> <td>   nan</td> <td>      nan</td> <td>      nan</td>\n",
       "</tr>\n",
       "<tr>\n",
       "  <th>state_24.0</th>                    <td>   -0.2083</td> <td>      nan</td> <td>      nan</td> <td>   nan</td> <td>      nan</td> <td>      nan</td>\n",
       "</tr>\n",
       "<tr>\n",
       "  <th>state_25.0</th>                    <td>    0.5837</td> <td>      nan</td> <td>      nan</td> <td>   nan</td> <td>      nan</td> <td>      nan</td>\n",
       "</tr>\n",
       "<tr>\n",
       "  <th>state_26.0</th>                    <td>    0.9226</td> <td>      nan</td> <td>      nan</td> <td>   nan</td> <td>      nan</td> <td>      nan</td>\n",
       "</tr>\n",
       "<tr>\n",
       "  <th>state_27.0</th>                    <td>   -0.0872</td> <td>      nan</td> <td>      nan</td> <td>   nan</td> <td>      nan</td> <td>      nan</td>\n",
       "</tr>\n",
       "<tr>\n",
       "  <th>state_28.0</th>                    <td>   -0.6735</td> <td>      nan</td> <td>      nan</td> <td>   nan</td> <td>      nan</td> <td>      nan</td>\n",
       "</tr>\n",
       "<tr>\n",
       "  <th>state_29.0</th>                    <td>   -0.4912</td> <td>      nan</td> <td>      nan</td> <td>   nan</td> <td>      nan</td> <td>      nan</td>\n",
       "</tr>\n",
       "<tr>\n",
       "  <th>state_30.0</th>                    <td>    0.2380</td> <td>      nan</td> <td>      nan</td> <td>   nan</td> <td>      nan</td> <td>      nan</td>\n",
       "</tr>\n",
       "<tr>\n",
       "  <th>state_31.0</th>                    <td>    0.7832</td> <td>      nan</td> <td>      nan</td> <td>   nan</td> <td>      nan</td> <td>      nan</td>\n",
       "</tr>\n",
       "<tr>\n",
       "  <th>state_32.0</th>                    <td>   -0.4682</td> <td>      nan</td> <td>      nan</td> <td>   nan</td> <td>      nan</td> <td>      nan</td>\n",
       "</tr>\n",
       "<tr>\n",
       "  <th>state_33.0</th>                    <td>    0.3757</td> <td>      nan</td> <td>      nan</td> <td>   nan</td> <td>      nan</td> <td>      nan</td>\n",
       "</tr>\n",
       "<tr>\n",
       "  <th>state_34.0</th>                    <td>    0.4126</td> <td>      nan</td> <td>      nan</td> <td>   nan</td> <td>      nan</td> <td>      nan</td>\n",
       "</tr>\n",
       "<tr>\n",
       "  <th>state_35.0</th>                    <td>   -0.0929</td> <td>      nan</td> <td>      nan</td> <td>   nan</td> <td>      nan</td> <td>      nan</td>\n",
       "</tr>\n",
       "<tr>\n",
       "  <th>state_36.0</th>                    <td>    0.1974</td> <td>      nan</td> <td>      nan</td> <td>   nan</td> <td>      nan</td> <td>      nan</td>\n",
       "</tr>\n",
       "<tr>\n",
       "  <th>state_37.0</th>                    <td>   -0.0109</td> <td>      nan</td> <td>      nan</td> <td>   nan</td> <td>      nan</td> <td>      nan</td>\n",
       "</tr>\n",
       "<tr>\n",
       "  <th>state_38.0</th>                    <td>    0.0910</td> <td>      nan</td> <td>      nan</td> <td>   nan</td> <td>      nan</td> <td>      nan</td>\n",
       "</tr>\n",
       "<tr>\n",
       "  <th>state_39.0</th>                    <td>   -0.7231</td> <td>      nan</td> <td>      nan</td> <td>   nan</td> <td>      nan</td> <td>      nan</td>\n",
       "</tr>\n",
       "<tr>\n",
       "  <th>state_40.0</th>                    <td>    0.9506</td> <td>      nan</td> <td>      nan</td> <td>   nan</td> <td>      nan</td> <td>      nan</td>\n",
       "</tr>\n",
       "<tr>\n",
       "  <th>state_41.0</th>                    <td>   -0.0829</td> <td>      nan</td> <td>      nan</td> <td>   nan</td> <td>      nan</td> <td>      nan</td>\n",
       "</tr>\n",
       "<tr>\n",
       "  <th>state_42.0</th>                    <td>   -0.6022</td> <td>      nan</td> <td>      nan</td> <td>   nan</td> <td>      nan</td> <td>      nan</td>\n",
       "</tr>\n",
       "<tr>\n",
       "  <th>state_43.0</th>                    <td>    0.8157</td> <td>      nan</td> <td>      nan</td> <td>   nan</td> <td>      nan</td> <td>      nan</td>\n",
       "</tr>\n",
       "<tr>\n",
       "  <th>state_44.0</th>                    <td>    0.0662</td> <td>      nan</td> <td>      nan</td> <td>   nan</td> <td>      nan</td> <td>      nan</td>\n",
       "</tr>\n",
       "<tr>\n",
       "  <th>state_45.0</th>                    <td>   -1.0839</td> <td>      nan</td> <td>      nan</td> <td>   nan</td> <td>      nan</td> <td>      nan</td>\n",
       "</tr>\n",
       "<tr>\n",
       "  <th>state_46.0</th>                    <td>   -0.4050</td> <td>      nan</td> <td>      nan</td> <td>   nan</td> <td>      nan</td> <td>      nan</td>\n",
       "</tr>\n",
       "<tr>\n",
       "  <th>state_47.0</th>                    <td>    0.5344</td> <td>      nan</td> <td>      nan</td> <td>   nan</td> <td>      nan</td> <td>      nan</td>\n",
       "</tr>\n",
       "<tr>\n",
       "  <th>state_48.0</th>                    <td>   -0.4945</td> <td>      nan</td> <td>      nan</td> <td>   nan</td> <td>      nan</td> <td>      nan</td>\n",
       "</tr>\n",
       "<tr>\n",
       "  <th>state_49.0</th>                    <td>   -0.3481</td> <td>      nan</td> <td>      nan</td> <td>   nan</td> <td>      nan</td> <td>      nan</td>\n",
       "</tr>\n",
       "<tr>\n",
       "  <th>state_50.0</th>                    <td>   -0.5090</td> <td>      nan</td> <td>      nan</td> <td>   nan</td> <td>      nan</td> <td>      nan</td>\n",
       "</tr>\n",
       "<tr>\n",
       "  <th>international plan_0.0</th>        <td>   -1.8956</td> <td>      nan</td> <td>      nan</td> <td>   nan</td> <td>      nan</td> <td>      nan</td>\n",
       "</tr>\n",
       "<tr>\n",
       "  <th>international plan_1.0</th>        <td>    0.0560</td> <td>      nan</td> <td>      nan</td> <td>   nan</td> <td>      nan</td> <td>      nan</td>\n",
       "</tr>\n",
       "<tr>\n",
       "  <th>voice mail plan_0.0</th>           <td>   -0.1677</td> <td>      nan</td> <td>      nan</td> <td>   nan</td> <td>      nan</td> <td>      nan</td>\n",
       "</tr>\n",
       "<tr>\n",
       "  <th>voice mail plan_1.0</th>           <td>   -1.6718</td> <td>      nan</td> <td>      nan</td> <td>   nan</td> <td>      nan</td> <td>      nan</td>\n",
       "</tr>\n",
       "</table>"
      ],
      "text/plain": [
       "<class 'statsmodels.iolib.summary.Summary'>\n",
       "\"\"\"\n",
       "                           Logit Regression Results                           \n",
       "==============================================================================\n",
       "Dep. Variable:                  Churn   No. Observations:                 3333\n",
       "Model:                          Logit   Df Residuals:                     3269\n",
       "Method:                           MLE   Df Model:                           63\n",
       "Date:                Sat, 21 Jul 2018   Pseudo R-squ.:                  0.1711\n",
       "Time:                        10:59:58   Log-Likelihood:                -1143.2\n",
       "converged:                       True   LL-Null:                       -1379.1\n",
       "                                        LLR p-value:                 6.122e-64\n",
       "=================================================================================================\n",
       "                                    coef    std err          z      P>|z|      [0.025      0.975]\n",
       "-------------------------------------------------------------------------------------------------\n",
       "account length                    0.0428      0.054      0.791      0.429      -0.063       0.149\n",
       "number vmail messages             0.8532      0.709      1.203      0.229      -0.537       2.243\n",
       "total day minutes                 0.5516      0.056      9.931      0.000       0.443       0.660\n",
       "total day calls                   0.0771      0.054      1.431      0.152      -0.028       0.183\n",
       "total eve minutes                 0.2774      0.055      5.013      0.000       0.169       0.386\n",
       "total eve calls                   0.0177      0.055      0.321      0.748      -0.090       0.126\n",
       "total night minutes               0.1778      0.055      3.242      0.001       0.070       0.285\n",
       "total night calls                 0.0055      0.055      0.100      0.920      -0.102       0.113\n",
       "total intl minutes                0.1464      0.055      2.668      0.008       0.039       0.254\n",
       "total intl calls                 -0.2381      0.057     -4.207      0.000      -0.349      -0.127\n",
       "number customer service calls    -0.0152      0.171     -0.089      0.929      -0.351       0.320\n",
       "state_0.0                        -0.8108        nan        nan        nan         nan         nan\n",
       "state_1.0                        -0.4332        nan        nan        nan         nan         nan\n",
       "state_2.0                         0.4227        nan        nan        nan         nan         nan\n",
       "state_3.0                        -0.6881        nan        nan        nan         nan         nan\n",
       "state_4.0                         0.8563        nan        nan        nan         nan         nan\n",
       "state_5.0                         0.1021        nan        nan        nan         nan         nan\n",
       "state_6.0                         0.1098        nan        nan        nan         nan         nan\n",
       "state_7.0                        -0.3461        nan        nan        nan         nan         nan\n",
       "state_8.0                        -0.0708        nan        nan        nan         nan         nan\n",
       "state_9.0                        -0.2262        nan        nan        nan         nan         nan\n",
       "state_10.0                        0.1329        nan        nan        nan         nan         nan\n",
       "state_11.0                       -0.9411        nan        nan        nan         nan         nan\n",
       "state_12.0                       -0.4391        nan        nan        nan         nan         nan\n",
       "state_13.0                        0.1223        nan        nan        nan         nan         nan\n",
       "state_14.0                       -1.1558        nan        nan        nan         nan         nan\n",
       "state_15.0                       -0.1405        nan        nan        nan         nan         nan\n",
       "state_16.0                        0.1597        nan        nan        nan         nan         nan\n",
       "state_17.0                        0.0519        nan        nan        nan         nan         nan\n",
       "state_18.0                       -0.2737        nan        nan        nan         nan         nan\n",
       "state_19.0                        0.1249        nan        nan        nan         nan         nan\n",
       "state_20.0                        0.4977        nan        nan        nan         nan         nan\n",
       "state_21.0                        0.5816        nan        nan        nan         nan         nan\n",
       "state_22.0                        0.5682        nan        nan        nan         nan         nan\n",
       "state_23.0                        0.2656        nan        nan        nan         nan         nan\n",
       "state_24.0                       -0.2083        nan        nan        nan         nan         nan\n",
       "state_25.0                        0.5837        nan        nan        nan         nan         nan\n",
       "state_26.0                        0.9226        nan        nan        nan         nan         nan\n",
       "state_27.0                       -0.0872        nan        nan        nan         nan         nan\n",
       "state_28.0                       -0.6735        nan        nan        nan         nan         nan\n",
       "state_29.0                       -0.4912        nan        nan        nan         nan         nan\n",
       "state_30.0                        0.2380        nan        nan        nan         nan         nan\n",
       "state_31.0                        0.7832        nan        nan        nan         nan         nan\n",
       "state_32.0                       -0.4682        nan        nan        nan         nan         nan\n",
       "state_33.0                        0.3757        nan        nan        nan         nan         nan\n",
       "state_34.0                        0.4126        nan        nan        nan         nan         nan\n",
       "state_35.0                       -0.0929        nan        nan        nan         nan         nan\n",
       "state_36.0                        0.1974        nan        nan        nan         nan         nan\n",
       "state_37.0                       -0.0109        nan        nan        nan         nan         nan\n",
       "state_38.0                        0.0910        nan        nan        nan         nan         nan\n",
       "state_39.0                       -0.7231        nan        nan        nan         nan         nan\n",
       "state_40.0                        0.9506        nan        nan        nan         nan         nan\n",
       "state_41.0                       -0.0829        nan        nan        nan         nan         nan\n",
       "state_42.0                       -0.6022        nan        nan        nan         nan         nan\n",
       "state_43.0                        0.8157        nan        nan        nan         nan         nan\n",
       "state_44.0                        0.0662        nan        nan        nan         nan         nan\n",
       "state_45.0                       -1.0839        nan        nan        nan         nan         nan\n",
       "state_46.0                       -0.4050        nan        nan        nan         nan         nan\n",
       "state_47.0                        0.5344        nan        nan        nan         nan         nan\n",
       "state_48.0                       -0.4945        nan        nan        nan         nan         nan\n",
       "state_49.0                       -0.3481        nan        nan        nan         nan         nan\n",
       "state_50.0                       -0.5090        nan        nan        nan         nan         nan\n",
       "international plan_0.0           -1.8956        nan        nan        nan         nan         nan\n",
       "international plan_1.0            0.0560        nan        nan        nan         nan         nan\n",
       "voice mail plan_0.0              -0.1677        nan        nan        nan         nan         nan\n",
       "voice mail plan_1.0              -1.6718        nan        nan        nan         nan         nan\n",
       "=================================================================================================\n",
       "\"\"\""
      ]
     },
     "execution_count": 223,
     "metadata": {},
     "output_type": "execute_result"
    }
   ],
   "source": [
    "#Built Logistic Regression\n",
    "import statsmodels.api as sm\n",
    "\n",
    "logit = sm.Logit(train_l['Churn'], train_l[train_cols]).fit()\n",
    "\n",
    "logit.summary()"
   ]
  },
  {
   "cell_type": "code",
   "execution_count": 224,
   "metadata": {},
   "outputs": [
    {
     "name": "stderr",
     "output_type": "stream",
     "text": [
      "C:\\Users\\sonne\\Anaconda3\\lib\\site-packages\\ipykernel_launcher.py:2: SettingWithCopyWarning: \n",
      "A value is trying to be set on a copy of a slice from a DataFrame.\n",
      "Try using .loc[row_indexer,col_indexer] = value instead\n",
      "\n",
      "See the caveats in the documentation: http://pandas.pydata.org/pandas-docs/stable/indexing.html#indexing-view-versus-copy\n",
      "  \n",
      "C:\\Users\\sonne\\Anaconda3\\lib\\site-packages\\ipykernel_launcher.py:4: SettingWithCopyWarning: \n",
      "A value is trying to be set on a copy of a slice from a DataFrame.\n",
      "Try using .loc[row_indexer,col_indexer] = value instead\n",
      "\n",
      "See the caveats in the documentation: http://pandas.pydata.org/pandas-docs/stable/indexing.html#indexing-view-versus-copy\n",
      "  after removing the cwd from sys.path.\n",
      "C:\\Users\\sonne\\Anaconda3\\lib\\site-packages\\pandas\\core\\indexing.py:543: SettingWithCopyWarning: \n",
      "A value is trying to be set on a copy of a slice from a DataFrame.\n",
      "Try using .loc[row_indexer,col_indexer] = value instead\n",
      "\n",
      "See the caveats in the documentation: http://pandas.pydata.org/pandas-docs/stable/indexing.html#indexing-view-versus-copy\n",
      "  self.obj[item] = s\n"
     ]
    }
   ],
   "source": [
    "#Predict test data\n",
    "test_l['Actual_prob'] = logit.predict(test_l[train_cols])\n",
    "\n",
    "test_l['ActualVal'] = 1\n",
    "test_l.loc[test_l.Actual_prob < 0.5, 'ActualVal'] = 0"
   ]
  },
  {
   "cell_type": "code",
   "execution_count": 227,
   "metadata": {},
   "outputs": [
    {
     "data": {
      "text/plain": [
       "81.69642857142857"
      ]
     },
     "execution_count": 227,
     "metadata": {},
     "output_type": "execute_result"
    }
   ],
   "source": [
    "#Build confusion matrix\n",
    "CM = pd.crosstab(test_l['Churn'], test_l['ActualVal'])\n",
    "\n",
    "#let us save TP, TN, FP, FN\n",
    "TN = CM.iloc[0,0]\n",
    "FN = CM.iloc[1,0]\n",
    "TP = CM.iloc[1,1]\n",
    "FP = CM.iloc[0,1]\n",
    "\n",
    "#check accuracy of model\n",
    "#accuracy_score(y_test, y_pred)*100\n",
    "((TP+TN)*100)/(TP+TN+FP+FN)\n",
    "\n",
    "(FN*100)/(FN+TP)"
   ]
  },
  {
   "cell_type": "code",
   "execution_count": null,
   "metadata": {},
   "outputs": [],
   "source": [
    "#accuracy=87%\n",
    "#FNR=81%"
   ]
  }
 ],
 "metadata": {
  "kernelspec": {
   "display_name": "Python 3",
   "language": "python",
   "name": "python3"
  },
  "language_info": {
   "codemirror_mode": {
    "name": "ipython",
    "version": 3
   },
   "file_extension": ".py",
   "mimetype": "text/x-python",
   "name": "python",
   "nbconvert_exporter": "python",
   "pygments_lexer": "ipython3",
   "version": "3.6.5"
  }
 },
 "nbformat": 4,
 "nbformat_minor": 2
}
